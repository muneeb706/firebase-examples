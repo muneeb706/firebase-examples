{
  "cells": [
    {
      "cell_type": "markdown",
      "metadata": {
        "colab_type": "text",
        "id": "view-in-github"
      },
      "source": [
        "<a href=\"https://colab.research.google.com/github/muneeb706/firebase-examples/blob/main/realtime_database_client/todo.ipynb\" target=\"_parent\"><img src=\"https://colab.research.google.com/assets/colab-badge.svg\" alt=\"Open In Colab\"/></a>"
      ]
    },
    {
      "cell_type": "markdown",
      "metadata": {
        "id": "rrx8tKyVT5-K"
      },
      "source": [
        "Upload TodoClient.py to this Colab notebook."
      ]
    },
    {
      "cell_type": "code",
      "execution_count": null,
      "metadata": {
        "id": "G2gBuzNovubY"
      },
      "outputs": [],
      "source": [
        "from TodoClient import TodoClient\n",
        "\n",
        "# Replace <your-database-name> with your actual Firebase Realtime Database name.\n",
        "# NOTE: tasks is not added in the end of the dburl, it is handled in TodoClient\n",
        "dburl = \"https://<your-database-name>.firebaseio.com/\"\n",
        "\n",
        "todo = TodoClient(dburl)"
      ]
    },
    {
      "cell_type": "code",
      "execution_count": 39,
      "metadata": {
        "colab": {
          "base_uri": "https://localhost:8080/",
          "height": 35
        },
        "id": "bJpsSH7cXI8g",
        "outputId": "a3b061e0-8167-4231-ea2e-fea5dcd32b47"
      },
      "outputs": [
        {
          "data": {
            "application/vnd.google.colaboratory.intrinsic+json": {
              "type": "string"
            },
            "text/plain": [
              "'Success!'"
            ]
          },
          "execution_count": 39,
          "metadata": {},
          "output_type": "execute_result"
        }
      ],
      "source": [
        "# Clear all the Existing tasks to start with clean slate (Success)\n",
        "\n",
        "todo.clear()\n"
      ]
    },
    {
      "cell_type": "code",
      "execution_count": 40,
      "metadata": {
        "colab": {
          "base_uri": "https://localhost:8080/",
          "height": 35
        },
        "id": "tMtKu1AKvsAd",
        "outputId": "a3a304b7-5226-4e85-f550-ce647c5a363b"
      },
      "outputs": [
        {
          "data": {
            "application/vnd.google.colaboratory.intrinsic+json": {
              "type": "string"
            },
            "text/plain": [
              "'Success!'"
            ]
          },
          "execution_count": 40,
          "metadata": {},
          "output_type": "execute_result"
        }
      ],
      "source": [
        "# Add a task (Success)\n",
        "\n",
        "todo.add_task(\"Submit HW1\")"
      ]
    },
    {
      "cell_type": "code",
      "execution_count": 41,
      "metadata": {
        "colab": {
          "base_uri": "https://localhost:8080/",
          "height": 35
        },
        "id": "-ImChPyMu1go",
        "outputId": "73c8a327-b051-46ea-df4f-73a899b24e46"
      },
      "outputs": [
        {
          "data": {
            "application/vnd.google.colaboratory.intrinsic+json": {
              "type": "string"
            },
            "text/plain": [
              "'Error in add_task: task \"Submit HW1\" already exists!'"
            ]
          },
          "execution_count": 41,
          "metadata": {},
          "output_type": "execute_result"
        }
      ],
      "source": [
        "# Add an Existing Task (Error)\n",
        "\n",
        "todo.add_task(\"Submit HW1\")"
      ]
    },
    {
      "cell_type": "code",
      "execution_count": 42,
      "metadata": {
        "colab": {
          "base_uri": "https://localhost:8080/",
          "height": 35
        },
        "id": "6WRD_U7cu8gY",
        "outputId": "360edbfb-c0e1-493d-da02-204f6d84a99a"
      },
      "outputs": [
        {
          "data": {
            "application/vnd.google.colaboratory.intrinsic+json": {
              "type": "string"
            },
            "text/plain": [
              "'Success!'"
            ]
          },
          "execution_count": 42,
          "metadata": {},
          "output_type": "execute_result"
        }
      ],
      "source": [
        "# Add more tasks (Success)\n",
        "\n",
        "res1 = todo.add_task(\"Prepare for presentation\")\n",
        "res2 = todo.add_task(\"Schedule team meeting\")\n",
        "\n",
        "res1\n",
        "res2"
      ]
    },
    {
      "cell_type": "code",
      "execution_count": 43,
      "metadata": {
        "colab": {
          "base_uri": "https://localhost:8080/"
        },
        "id": "qrH7cqv5wOmn",
        "outputId": "aa488b77-07d3-4e8c-e107-40f100a33f2f"
      },
      "outputs": [
        {
          "data": {
            "text/plain": [
              "{'Prepare for presentation': 'pending',\n",
              " 'Schedule team meeting': 'pending',\n",
              " 'Submit HW1': 'pending'}"
            ]
          },
          "execution_count": 43,
          "metadata": {},
          "output_type": "execute_result"
        }
      ],
      "source": [
        "# Get All Tasks with status (Success)\n",
        "\n",
        "todo.get_all_tasks()"
      ]
    },
    {
      "cell_type": "code",
      "execution_count": 44,
      "metadata": {
        "colab": {
          "base_uri": "https://localhost:8080/"
        },
        "id": "EC0tpkF_wP-o",
        "outputId": "276b6ce1-0f34-4c09-8f53-b0d49f7cc008"
      },
      "outputs": [
        {
          "name": "stdout",
          "output_type": "stream",
          "text": [
            "Success!\n",
            "\n"
          ]
        },
        {
          "data": {
            "text/plain": [
              "{'Prepare for presentation': 'pending',\n",
              " 'Schedule team meeting': 'pending',\n",
              " 'Submit HW1': 'completed'}"
            ]
          },
          "execution_count": 44,
          "metadata": {},
          "output_type": "execute_result"
        }
      ],
      "source": [
        "# Mark a Task as Completed (Success)\n",
        "\n",
        "res = todo.mark_completed(\"Submit HW1\")\n",
        "print(res)\n",
        "print(\"\")\n",
        "todo.get_all_tasks()"
      ]
    },
    {
      "cell_type": "code",
      "execution_count": 45,
      "metadata": {
        "colab": {
          "base_uri": "https://localhost:8080/",
          "height": 35
        },
        "id": "yJqmhGUntHme",
        "outputId": "2a3d1ad0-5e6c-4439-d521-700565565944"
      },
      "outputs": [
        {
          "data": {
            "application/vnd.google.colaboratory.intrinsic+json": {
              "type": "string"
            },
            "text/plain": [
              "'Error in mark_completed: task \"Go grocery shopping\" does not exist!'"
            ]
          },
          "execution_count": 45,
          "metadata": {},
          "output_type": "execute_result"
        }
      ],
      "source": [
        "# Mark a Non-Existent Task (Error)\n",
        "\n",
        "todo.mark_completed(\"Go grocery shopping\")"
      ]
    },
    {
      "cell_type": "code",
      "execution_count": 46,
      "metadata": {
        "colab": {
          "base_uri": "https://localhost:8080/"
        },
        "id": "zjwD1o73hI_2",
        "outputId": "4b79e897-0e85-4005-f171-f5116e2af147"
      },
      "outputs": [
        {
          "data": {
            "text/plain": [
              "['Prepare for presentation', 'Schedule team meeting']"
            ]
          },
          "execution_count": 46,
          "metadata": {},
          "output_type": "execute_result"
        }
      ],
      "source": [
        "# Get Tasks by Status ('pending')\n",
        "\n",
        "todo.get_task_by_status(\"pending\")"
      ]
    },
    {
      "cell_type": "code",
      "execution_count": 47,
      "metadata": {
        "colab": {
          "base_uri": "https://localhost:8080/"
        },
        "id": "vFpqkUp1ipt7",
        "outputId": "1591aeff-ab36-4466-c10b-56f9c3507bcc"
      },
      "outputs": [
        {
          "data": {
            "text/plain": [
              "['Submit HW1']"
            ]
          },
          "execution_count": 47,
          "metadata": {},
          "output_type": "execute_result"
        }
      ],
      "source": [
        "# Get Tasks by Status ('completed')\n",
        "\n",
        "todo.get_task_by_status(\"completed\")"
      ]
    },
    {
      "cell_type": "code",
      "execution_count": 48,
      "metadata": {
        "colab": {
          "base_uri": "https://localhost:8080/",
          "height": 35
        },
        "id": "b_dh1zAzinfM",
        "outputId": "78af1717-862f-4c6d-b692-aa0c16ccc87e"
      },
      "outputs": [
        {
          "data": {
            "application/vnd.google.colaboratory.intrinsic+json": {
              "type": "string"
            },
            "text/plain": [
              "'Success!'"
            ]
          },
          "execution_count": 48,
          "metadata": {},
          "output_type": "execute_result"
        }
      ],
      "source": [
        "# Delete a Task (Success)\n",
        "\n",
        "todo.delete_task(\"Submit HW1\")"
      ]
    },
    {
      "cell_type": "code",
      "execution_count": 49,
      "metadata": {
        "colab": {
          "base_uri": "https://localhost:8080/"
        },
        "id": "JNb9Pkrsk8GP",
        "outputId": "90627240-044e-43b7-ab3f-c0de8fac0bb2"
      },
      "outputs": [
        {
          "data": {
            "text/plain": [
              "[]"
            ]
          },
          "execution_count": 49,
          "metadata": {},
          "output_type": "execute_result"
        }
      ],
      "source": [
        "# Get Tasks by Status ('completed')\n",
        "# should be empty\n",
        "todo.get_task_by_status(\"completed\")"
      ]
    },
    {
      "cell_type": "code",
      "execution_count": 50,
      "metadata": {
        "colab": {
          "base_uri": "https://localhost:8080/",
          "height": 35
        },
        "id": "Ld-6gB6rizt8",
        "outputId": "ca42b40b-4527-4bd1-ba58-fff9c9ef8025"
      },
      "outputs": [
        {
          "data": {
            "application/vnd.google.colaboratory.intrinsic+json": {
              "type": "string"
            },
            "text/plain": [
              "'Success!'"
            ]
          },
          "execution_count": 50,
          "metadata": {},
          "output_type": "execute_result"
        }
      ],
      "source": [
        "# Delete a Non-Existent Task (Error)\n",
        "\n",
        "todo.delete_task(\"Schedule team meeting\")"
      ]
    },
    {
      "cell_type": "code",
      "execution_count": 51,
      "metadata": {
        "colab": {
          "base_uri": "https://localhost:8080/"
        },
        "id": "ffYuhjlyjD-n",
        "outputId": "973ad2ff-8919-424c-da86-8e7f1fdc6832"
      },
      "outputs": [
        {
          "data": {
            "text/plain": [
              "{'Prepare for presentation': 'pending'}"
            ]
          },
          "execution_count": 51,
          "metadata": {},
          "output_type": "execute_result"
        }
      ],
      "source": [
        "# View the final state of the to-do list\n",
        "\n",
        "todo.get_all_tasks()"
      ]
    },
    {
      "cell_type": "markdown",
      "metadata": {
        "id": "W2oBzqxAly08"
      },
      "source": [
        "### Tests for Alternative Scenarios"
      ]
    },
    {
      "cell_type": "code",
      "execution_count": 52,
      "metadata": {
        "colab": {
          "base_uri": "https://localhost:8080/"
        },
        "id": "sbSWLe6ol48i",
        "outputId": "2fb3587e-ddd0-4607-95ac-366652a88126"
      },
      "outputs": [
        {
          "name": "stdout",
          "output_type": "stream",
          "text": [
            "None\n"
          ]
        }
      ],
      "source": [
        "# Test: Get all tasks when the database is empty\n",
        "# Expected: None\n",
        "todo.clear()\n",
        "res = todo.get_all_tasks()\n",
        "print(res)"
      ]
    },
    {
      "cell_type": "code",
      "execution_count": 54,
      "metadata": {
        "colab": {
          "base_uri": "https://localhost:8080/"
        },
        "id": "NUL7ymSYmx_Y",
        "outputId": "1aca9b0c-1476-42b9-cd01-cad67b12576e"
      },
      "outputs": [
        {
          "data": {
            "text/plain": [
              "{'error': 'Permission denied'}"
            ]
          },
          "execution_count": 54,
          "metadata": {},
          "output_type": "execute_result"
        }
      ],
      "source": [
        "# --- Test for Invalid Permission ---\n",
        "\n",
        "# Please update permissions in firebase database to following (preventing writes)\n",
        "\"\"\"\n",
        "{\n",
        "  \"rules\": {\n",
        "    \".read\": \"true\",\n",
        "    \".write\": \"false\",\n",
        "    \"tasks\": {\n",
        "      \".indexOn\": \".value\"\n",
        "    }\n",
        "  }\n",
        "}\n",
        "\"\"\"\n",
        "# Expected Output: {'error': 'Permission denied'}\n",
        "todo.clear()"
      ]
    }
  ],
  "metadata": {
    "colab": {
      "include_colab_link": true,
      "provenance": []
    },
    "kernelspec": {
      "display_name": "Python 3",
      "name": "python3"
    },
    "language_info": {
      "name": "python"
    }
  },
  "nbformat": 4,
  "nbformat_minor": 0
}
