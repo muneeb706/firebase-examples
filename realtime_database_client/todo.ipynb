{
  "nbformat": 4,
  "nbformat_minor": 0,
  "metadata": {
    "colab": {
      "provenance": [],
      "include_colab_link": true
    },
    "kernelspec": {
      "name": "python3",
      "display_name": "Python 3"
    },
    "language_info": {
      "name": "python"
    }
  },
  "cells": [
    {
      "cell_type": "markdown",
      "metadata": {
        "id": "view-in-github",
        "colab_type": "text"
      },
      "source": [
        "<a href=\"https://colab.research.google.com/github/muneeb706/firebase-examples/blob/main/realtime_database_client/todo.ipynb\" target=\"_parent\"><img src=\"https://colab.research.google.com/assets/colab-badge.svg\" alt=\"Open In Colab\"/></a>"
      ]
    },
    {
      "cell_type": "markdown",
      "source": [
        "My (Muneeb Shahid) colab link here:\n",
        "https://drive.google.com/file/d/1LlT98PKVYRDR6Pp7F6AbfmC_9DpGWIit/view?usp=sharing"
      ],
      "metadata": {
        "id": "fY05LNqZTzoH"
      }
    },
    {
      "cell_type": "markdown",
      "source": [
        "Upload TodoClient.py to this Colab notebook."
      ],
      "metadata": {
        "id": "rrx8tKyVT5-K"
      }
    },
    {
      "cell_type": "code",
      "source": [
        "from TodoClient import TodoClient\n",
        "\n",
        "dburl = \"https://dsci551-hw1-76c28-default-rtdb.firebaseio.com/\"\n",
        "\n",
        "# NOTE: tasks is not added in the end of the dburl, it is handled in TodoClient\n",
        "\n",
        "todo = TodoClient(dburl)"
      ],
      "metadata": {
        "id": "G2gBuzNovubY"
      },
      "execution_count": 38,
      "outputs": []
    },
    {
      "cell_type": "code",
      "source": [
        "# Clear all the Existing tasks to start with clean slate (Success)\n",
        "\n",
        "todo.clear()\n"
      ],
      "metadata": {
        "colab": {
          "base_uri": "https://localhost:8080/",
          "height": 35
        },
        "id": "bJpsSH7cXI8g",
        "outputId": "a3b061e0-8167-4231-ea2e-fea5dcd32b47"
      },
      "execution_count": 39,
      "outputs": [
        {
          "output_type": "execute_result",
          "data": {
            "text/plain": [
              "'Success!'"
            ],
            "application/vnd.google.colaboratory.intrinsic+json": {
              "type": "string"
            }
          },
          "metadata": {},
          "execution_count": 39
        }
      ]
    },
    {
      "cell_type": "code",
      "source": [
        "# Add a task (Success)\n",
        "\n",
        "todo.add_task(\"Submit HW1\")"
      ],
      "metadata": {
        "colab": {
          "base_uri": "https://localhost:8080/",
          "height": 35
        },
        "id": "tMtKu1AKvsAd",
        "outputId": "a3a304b7-5226-4e85-f550-ce647c5a363b"
      },
      "execution_count": 40,
      "outputs": [
        {
          "output_type": "execute_result",
          "data": {
            "text/plain": [
              "'Success!'"
            ],
            "application/vnd.google.colaboratory.intrinsic+json": {
              "type": "string"
            }
          },
          "metadata": {},
          "execution_count": 40
        }
      ]
    },
    {
      "cell_type": "code",
      "source": [
        "# Add an Existing Task (Error)\n",
        "\n",
        "todo.add_task(\"Submit HW1\")"
      ],
      "metadata": {
        "colab": {
          "base_uri": "https://localhost:8080/",
          "height": 35
        },
        "id": "-ImChPyMu1go",
        "outputId": "73c8a327-b051-46ea-df4f-73a899b24e46"
      },
      "execution_count": 41,
      "outputs": [
        {
          "output_type": "execute_result",
          "data": {
            "text/plain": [
              "'Error in add_task: task \"Submit HW1\" already exists!'"
            ],
            "application/vnd.google.colaboratory.intrinsic+json": {
              "type": "string"
            }
          },
          "metadata": {},
          "execution_count": 41
        }
      ]
    },
    {
      "cell_type": "code",
      "source": [
        "# Add more tasks (Success)\n",
        "\n",
        "res1 = todo.add_task(\"Prepare for presentation\")\n",
        "res2 = todo.add_task(\"Schedule team meeting\")\n",
        "\n",
        "res1\n",
        "res2"
      ],
      "metadata": {
        "colab": {
          "base_uri": "https://localhost:8080/",
          "height": 35
        },
        "id": "6WRD_U7cu8gY",
        "outputId": "360edbfb-c0e1-493d-da02-204f6d84a99a"
      },
      "execution_count": 42,
      "outputs": [
        {
          "output_type": "execute_result",
          "data": {
            "text/plain": [
              "'Success!'"
            ],
            "application/vnd.google.colaboratory.intrinsic+json": {
              "type": "string"
            }
          },
          "metadata": {},
          "execution_count": 42
        }
      ]
    },
    {
      "cell_type": "code",
      "source": [
        "# Get All Tasks with status (Success)\n",
        "\n",
        "todo.get_all_tasks()"
      ],
      "metadata": {
        "colab": {
          "base_uri": "https://localhost:8080/"
        },
        "id": "qrH7cqv5wOmn",
        "outputId": "aa488b77-07d3-4e8c-e107-40f100a33f2f"
      },
      "execution_count": 43,
      "outputs": [
        {
          "output_type": "execute_result",
          "data": {
            "text/plain": [
              "{'Prepare for presentation': 'pending',\n",
              " 'Schedule team meeting': 'pending',\n",
              " 'Submit HW1': 'pending'}"
            ]
          },
          "metadata": {},
          "execution_count": 43
        }
      ]
    },
    {
      "cell_type": "code",
      "source": [
        "# Mark a Task as Completed (Success)\n",
        "\n",
        "res = todo.mark_completed(\"Submit HW1\")\n",
        "print(res)\n",
        "print(\"\")\n",
        "todo.get_all_tasks()"
      ],
      "metadata": {
        "colab": {
          "base_uri": "https://localhost:8080/"
        },
        "id": "EC0tpkF_wP-o",
        "outputId": "276b6ce1-0f34-4c09-8f53-b0d49f7cc008"
      },
      "execution_count": 44,
      "outputs": [
        {
          "output_type": "stream",
          "name": "stdout",
          "text": [
            "Success!\n",
            "\n"
          ]
        },
        {
          "output_type": "execute_result",
          "data": {
            "text/plain": [
              "{'Prepare for presentation': 'pending',\n",
              " 'Schedule team meeting': 'pending',\n",
              " 'Submit HW1': 'completed'}"
            ]
          },
          "metadata": {},
          "execution_count": 44
        }
      ]
    },
    {
      "cell_type": "code",
      "source": [
        "# Mark a Non-Existent Task (Error)\n",
        "\n",
        "todo.mark_completed(\"Go grocery shopping\")"
      ],
      "metadata": {
        "colab": {
          "base_uri": "https://localhost:8080/",
          "height": 35
        },
        "id": "yJqmhGUntHme",
        "outputId": "2a3d1ad0-5e6c-4439-d521-700565565944"
      },
      "execution_count": 45,
      "outputs": [
        {
          "output_type": "execute_result",
          "data": {
            "text/plain": [
              "'Error in mark_completed: task \"Go grocery shopping\" does not exist!'"
            ],
            "application/vnd.google.colaboratory.intrinsic+json": {
              "type": "string"
            }
          },
          "metadata": {},
          "execution_count": 45
        }
      ]
    },
    {
      "cell_type": "code",
      "source": [
        "# Get Tasks by Status ('pending')\n",
        "\n",
        "todo.get_task_by_status(\"pending\")"
      ],
      "metadata": {
        "colab": {
          "base_uri": "https://localhost:8080/"
        },
        "id": "zjwD1o73hI_2",
        "outputId": "4b79e897-0e85-4005-f171-f5116e2af147"
      },
      "execution_count": 46,
      "outputs": [
        {
          "output_type": "execute_result",
          "data": {
            "text/plain": [
              "['Prepare for presentation', 'Schedule team meeting']"
            ]
          },
          "metadata": {},
          "execution_count": 46
        }
      ]
    },
    {
      "cell_type": "code",
      "source": [
        "# Get Tasks by Status ('completed')\n",
        "\n",
        "todo.get_task_by_status(\"completed\")"
      ],
      "metadata": {
        "colab": {
          "base_uri": "https://localhost:8080/"
        },
        "id": "vFpqkUp1ipt7",
        "outputId": "1591aeff-ab36-4466-c10b-56f9c3507bcc"
      },
      "execution_count": 47,
      "outputs": [
        {
          "output_type": "execute_result",
          "data": {
            "text/plain": [
              "['Submit HW1']"
            ]
          },
          "metadata": {},
          "execution_count": 47
        }
      ]
    },
    {
      "cell_type": "code",
      "source": [
        "# Delete a Task (Success)\n",
        "\n",
        "todo.delete_task(\"Submit HW1\")"
      ],
      "metadata": {
        "colab": {
          "base_uri": "https://localhost:8080/",
          "height": 35
        },
        "id": "b_dh1zAzinfM",
        "outputId": "78af1717-862f-4c6d-b692-aa0c16ccc87e"
      },
      "execution_count": 48,
      "outputs": [
        {
          "output_type": "execute_result",
          "data": {
            "text/plain": [
              "'Success!'"
            ],
            "application/vnd.google.colaboratory.intrinsic+json": {
              "type": "string"
            }
          },
          "metadata": {},
          "execution_count": 48
        }
      ]
    },
    {
      "cell_type": "code",
      "source": [
        "# Get Tasks by Status ('completed')\n",
        "# should be empty\n",
        "todo.get_task_by_status(\"completed\")"
      ],
      "metadata": {
        "colab": {
          "base_uri": "https://localhost:8080/"
        },
        "id": "JNb9Pkrsk8GP",
        "outputId": "90627240-044e-43b7-ab3f-c0de8fac0bb2"
      },
      "execution_count": 49,
      "outputs": [
        {
          "output_type": "execute_result",
          "data": {
            "text/plain": [
              "[]"
            ]
          },
          "metadata": {},
          "execution_count": 49
        }
      ]
    },
    {
      "cell_type": "code",
      "source": [
        "# Delete a Non-Existent Task (Error)\n",
        "\n",
        "todo.delete_task(\"Schedule team meeting\")"
      ],
      "metadata": {
        "colab": {
          "base_uri": "https://localhost:8080/",
          "height": 35
        },
        "id": "Ld-6gB6rizt8",
        "outputId": "ca42b40b-4527-4bd1-ba58-fff9c9ef8025"
      },
      "execution_count": 50,
      "outputs": [
        {
          "output_type": "execute_result",
          "data": {
            "text/plain": [
              "'Success!'"
            ],
            "application/vnd.google.colaboratory.intrinsic+json": {
              "type": "string"
            }
          },
          "metadata": {},
          "execution_count": 50
        }
      ]
    },
    {
      "cell_type": "code",
      "source": [
        "# View the final state of the to-do list\n",
        "\n",
        "todo.get_all_tasks()"
      ],
      "metadata": {
        "colab": {
          "base_uri": "https://localhost:8080/"
        },
        "id": "ffYuhjlyjD-n",
        "outputId": "973ad2ff-8919-424c-da86-8e7f1fdc6832"
      },
      "execution_count": 51,
      "outputs": [
        {
          "output_type": "execute_result",
          "data": {
            "text/plain": [
              "{'Prepare for presentation': 'pending'}"
            ]
          },
          "metadata": {},
          "execution_count": 51
        }
      ]
    },
    {
      "cell_type": "markdown",
      "source": [
        "### Tests for Alternative Scenarios"
      ],
      "metadata": {
        "id": "W2oBzqxAly08"
      }
    },
    {
      "cell_type": "code",
      "source": [
        "# Test: Get all tasks when the database is empty\n",
        "# Expected: None\n",
        "todo.clear()\n",
        "res = todo.get_all_tasks()\n",
        "print(res)"
      ],
      "metadata": {
        "colab": {
          "base_uri": "https://localhost:8080/"
        },
        "id": "sbSWLe6ol48i",
        "outputId": "2fb3587e-ddd0-4607-95ac-366652a88126"
      },
      "execution_count": 52,
      "outputs": [
        {
          "output_type": "stream",
          "name": "stdout",
          "text": [
            "None\n"
          ]
        }
      ]
    },
    {
      "cell_type": "code",
      "source": [
        "# --- Test for Invalid Permission ---\n",
        "\n",
        "# Please update permissions in firebase database to following (preventing writes)\n",
        "\"\"\"\n",
        "{\n",
        "  \"rules\": {\n",
        "    \".read\": \"true\",\n",
        "    \".write\": \"false\",\n",
        "    \"tasks\": {\n",
        "      \".indexOn\": \".value\"\n",
        "    }\n",
        "  }\n",
        "}\n",
        "\"\"\"\n",
        "# Expected Output: {'error': 'Permission denied'}\n",
        "todo.clear()"
      ],
      "metadata": {
        "colab": {
          "base_uri": "https://localhost:8080/"
        },
        "id": "NUL7ymSYmx_Y",
        "outputId": "1aca9b0c-1476-42b9-cd01-cad67b12576e"
      },
      "execution_count": 54,
      "outputs": [
        {
          "output_type": "execute_result",
          "data": {
            "text/plain": [
              "{'error': 'Permission denied'}"
            ]
          },
          "metadata": {},
          "execution_count": 54
        }
      ]
    }
  ]
}